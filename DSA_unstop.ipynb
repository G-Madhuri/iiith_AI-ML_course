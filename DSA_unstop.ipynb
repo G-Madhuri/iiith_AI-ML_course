{
  "nbformat": 4,
  "nbformat_minor": 0,
  "metadata": {
    "colab": {
      "provenance": [],
      "authorship_tag": "ABX9TyNApEDvtfvL9eKsg8vkx8KA",
      "include_colab_link": true
    },
    "kernelspec": {
      "name": "python3",
      "display_name": "Python 3"
    },
    "language_info": {
      "name": "python"
    }
  },
  "cells": [
    {
      "cell_type": "markdown",
      "metadata": {
        "id": "view-in-github",
        "colab_type": "text"
      },
      "source": [
        "<a href=\"https://colab.research.google.com/github/G-Madhuri/iiith_AI-ML_course/blob/main/DSA_unstop.ipynb\" target=\"_parent\"><img src=\"https://colab.research.google.com/assets/colab-badge.svg\" alt=\"Open In Colab\"/></a>"
      ]
    },
    {
      "cell_type": "markdown",
      "source": [
        "#### Microsoft"
      ],
      "metadata": {
        "id": "AEnKN7LP-i7v"
      }
    },
    {
      "cell_type": "code",
      "source": [
        "<details>\n",
        "  <summary>Click to view the explanation</summary>\n",
        "  This is the hidden content. You can add any explanation, text, or other content here.\n",
        "</details>\n"
      ],
      "metadata": {
        "id": "tyAv-YwZABAr"
      },
      "execution_count": null,
      "outputs": []
    },
    {
      "cell_type": "markdown",
      "source": [
        "<details>\n",
        "  <summary>Qn1</summary>\n",
        "  Bob, in a fit of anger, vowed to avoid using built-in libraries after an argument with a programming language developer. He's attempting to create his own functions and data structures but got stuck while implementing a HashMap to map unique integer keys to integer values.\n",
        "He needs help to perform three basic operations:\n",
        "\n",
        "1. Insert: Add or update a (key, value) pair.\n",
        "2. Get: Print the value for a given key, or -1 if the key doesn't exist.\n",
        "3. Delete: Remove a key and its corresponding value if present.\n",
        "\n",
        "Let's assist Bob in building his own HashMap without relying on any pre-existing hash table libraries.\n",
        "\n",
        "Input Format\n",
        "The first line of the input contains N, the number of queries.\n",
        "Each of the next n lines starts with integer T, the type of query.\n",
        "For type = 1, the line further contains 2 integers denoting the key and its corresponding value to be inserted.\n",
        "For type = 2, the line further contains a single integer denoting the key whose value is to be printed.\n",
        "For type = 3, the line further contains a single integer denoting the key that is to be deleted.\n",
        "\n",
        "Output Format\n",
        "For queries of type 2, print a single integer – value corresponding to the given key.\n",
        "\n",
        "Constraints\n",
        "1 <= N <= 104\n",
        "0 <= key, value <= 10^6\n",
        "All the queries are orderly dependent.\n",
        "There will be at least one type 2 query.\n",
        "In type 3 queries, it is guaranteed that the key given is present in the map at the moment.\n",
        "</details>\n"
      ],
      "metadata": {
        "id": "iWdOsSuU_BXq"
      }
    },
    {
      "cell_type": "code",
      "source": [
        "class HashMap:\n",
        "    def __init__(self):\n",
        "        self.map = {}\n",
        "\n",
        "    def Insert(self, key, value):\n",
        "        self.map[key] = value\n",
        "\n",
        "    def get(self, key):\n",
        "        return self.map.get(key, -1)\n",
        "\n",
        "    def Delete(self, key):\n",
        "        if key in self.map:\n",
        "            del self.map[key]\n",
        "\n",
        "if __name__ == '__main__':\n",
        "    import sys\n",
        "    input = sys.stdin.read\n",
        "    data = input().split()\n",
        "    n = int(data[0])\n",
        "    idx = 1\n",
        "    m = HashMap()\n",
        "    for _ in range(n):\n",
        "        type = int(data[idx])\n",
        "        if type == 1:\n",
        "            key = int(data[idx + 1])\n",
        "            val = int(data[idx + 2])\n",
        "            m.Insert(key, val)\n",
        "            idx += 3\n",
        "        elif type == 2:\n",
        "            key = int(data[idx + 1])\n",
        "            print(m.get(key))\n",
        "            idx += 2\n",
        "        elif type == 3:\n",
        "            key = int(data[idx + 1])\n",
        "            m.Delete(key)\n",
        "            idx += 2"
      ],
      "metadata": {
        "id": "3T4fI-9Z_VOQ"
      },
      "execution_count": null,
      "outputs": []
    },
    {
      "cell_type": "markdown",
      "source": [
        "<details>\n",
        "  <summary>Qn2</summary>\n",
        "  Problem Statement\n",
        "Reena has a basket containing an array of 2N fruits.\n",
        "\n",
        "She needs to pair these fruits into N pairs, (a1, b1) , (a2, b2),.....,(an, bn), such that the sum of the minimum values in each pair, min(ai, bi) for all i is maximized.\n",
        "Your task is to calculate and print this maximum possible sum.\n",
        "\n",
        "Input Format\n",
        "The first line contains a single even integer representing the number of fruits, 2N.\n",
        "\n",
        "The second line contains 2N space-separated integers representing the fruits.\n",
        "\n",
        "Output Format\n",
        "Print a single integer, which is the maximum sum.\n",
        "\n",
        "Constraints\n",
        "1 <= N <= 10^5\n",
        "\n",
        "length == 2 * N\n",
        "\n",
        "-10^4 <= nums[i] <= 10^4\n",
        "</details>\n"
      ],
      "metadata": {
        "id": "rX-rzOHV_ng2"
      }
    },
    {
      "cell_type": "code",
      "source": [
        "import java.io.*;\n",
        "import java.util.*;\n",
        "\n",
        "class Main {\n",
        "    public static void main(String[] args) {\n",
        "        // Create a scanner for input\n",
        "        Scanner scanner = new Scanner(System.in);\n",
        "\n",
        "        // Read the number of fruits, which is 2N (even number)\n",
        "        int n = scanner.nextInt() / 2;  // We want N, which is half of 2N\n",
        "\n",
        "        // Read the fruits into an array\n",
        "        int[] fruits = new int[2 * n];\n",
        "        for (int i = 0; i < 2 * n; i++) {\n",
        "            fruits[i] = scanner.nextInt();\n",
        "        }\n",
        "\n",
        "        // Sort the array of fruits\n",
        "        Arrays.sort(fruits);\n",
        "\n",
        "        // Initialize the variable to store the sum of the minimums\n",
        "        int maxSum = 0;\n",
        "\n",
        "        // Add up the first element of each pair\n",
        "        for (int i = 0; i < 2 * n; i += 2) {\n",
        "            maxSum += fruits[i];  // The minimum in each pair is the first element\n",
        "        }\n",
        "\n",
        "        // Output the result\n",
        "        System.out.println(maxSum);\n",
        "    }\n",
        "}\n"
      ],
      "metadata": {
        "id": "ydKClzgz_wp8"
      },
      "execution_count": null,
      "outputs": []
    },
    {
      "cell_type": "markdown",
      "source": [
        "<details>\n",
        "  <summary>Qn3</summary>\n",
        "  Problem Statement\n",
        "Marco is fond of algorithms, especially of trees. One day he wonders that for a particular number of nodes, how many trees can be constructed such that they are unique in the structure and satisfy these conditions:\n",
        "\n",
        "Left child value of the root should be smaller than the root value.\n",
        "Right child value of the root should be larger than the root value.\n",
        "The nodes values are from [1,N] and the values should not be repeated more than once.\n",
        "Input Format\n",
        "The first line contains an integer N , the number of nodes.\n",
        "\n",
        "Output Format\n",
        "The first line contains an integer M , the total number of uniquely identified structured trees that can be formed.\n",
        "\n",
        "Constraints\n",
        "1 <= N <= 19\n",
        "</details>\n"
      ],
      "metadata": {
        "id": "DE0LfQa1_7Hn"
      }
    },
    {
      "cell_type": "code",
      "source": [
        "def count_unique_BSTs(N):\n",
        "    # dp[i] will store the number of unique BSTs that can be made with i nodes\n",
        "    dp = [0] * (N + 1)\n",
        "\n",
        "    # Base case: There is one BST with 0 nodes (empty tree) and one BST with 1 node (single node tree)\n",
        "    dp[0] = 1  # One BST with 0 nodes (empty tree)\n",
        "    dp[1] = 1  # One BST with 1 node\n",
        "\n",
        "    # Fill the dp array using the recursive formula\n",
        "    for nodes in range(2, N + 1):\n",
        "        for root in range(1, nodes + 1):\n",
        "            dp[nodes] += dp[root - 1] * dp[nodes - root]\n",
        "\n",
        "    # Return the number of unique BSTs with N nodes\n",
        "    return dp[N]\n",
        "\n",
        "# Read the input\n",
        "N = int(input())  # Number of nodes\n",
        "\n",
        "# Output the result: the number of unique BSTs with N nodes\n",
        "print(count_unique_BSTs(N))\n"
      ],
      "metadata": {
        "id": "ccsitdAZ_6q0"
      },
      "execution_count": null,
      "outputs": []
    },
    {
      "cell_type": "markdown",
      "source": [
        "#### Amazon"
      ],
      "metadata": {
        "id": "q6Ias5loAQf3"
      }
    },
    {
      "cell_type": "markdown",
      "source": [
        "<details>\n",
        "  <summary>QN-1</summary>\n",
        "  Problem Statement\n",
        "As you set out on an adventure to explore a mysterious box, containing n enchanted compartments to lead you to a treasure, you encounter a peculiar challenge. At each move, you can choose to advance by opening 1 or 2 compartments.\n",
        "Your mission is to decipher the total count of distinct ways to reach the nth compartment of this enigmatic box.\n",
        "\n",
        "Input Format\n",
        "The first line contain a single integer N representing number of enchanted compartments\n",
        "\n",
        "Output Format\n",
        "Print a single integer that denotes the total count of distinct ways to reach the Nth compartment of this enigmatic box.\n",
        "\n",
        "Constraints\n",
        "1 <= N <= 45\n",
        "\n",
        "Sample Testcase 0\n",
        "Testcase Input\n",
        "4\n",
        "Testcase Output\n",
        "5\n",
        "Explanation\n",
        "There are five ways to climb to the top.\n",
        "\n",
        "\n",
        "1. 1 compartment + 1 compartment + 1 compartment + 1 compartment or as [1,1,1,1]\n",
        "2. [1,1,2]\n",
        "3. [1,2,1]\n",
        "4. [2,1,1]\n",
        "5. [2,2]\n",
        "</details>\n"
      ],
      "metadata": {
        "id": "Uo9YHn0O_Ub4"
      }
    },
    {
      "cell_type": "code",
      "source": [
        "def get_treasure(n, memo={}):\n",
        "    # Base cases\n",
        "    if n == 0 or n == 1:\n",
        "        return 1\n",
        "\n",
        "    # Check if result is already computed\n",
        "    if n in memo:\n",
        "        return memo[n]\n",
        "\n",
        "    # Store result in memo to avoid recomputation\n",
        "    memo[n] = get_treasure(n - 1, memo) + get_treasure(n - 2, memo)\n",
        "    return memo[n]\n",
        "\n",
        "if __name__ == \"__main__\":\n",
        "    n = int(input())\n",
        "    print(get_treasure(n))\n"
      ],
      "metadata": {
        "id": "E6d3ZVZtAQse"
      },
      "execution_count": null,
      "outputs": []
    },
    {
      "cell_type": "markdown",
      "source": [
        "<details>\n",
        "  <summary>QN-2</summary>\n",
        "  Problem Statement\n",
        "Ram is given a sequence of numbers by the wizard Betaal. To free himself from the wizard's spell, Ram must sort this sequence and then concatenate the sorted sequence with itself.\n",
        "\n",
        "Your task is to help Ram by performing the required operations and generating the final sequence.\n",
        "\n",
        "Input Format\n",
        "The first line contains an integer N, representing the number of elements.\n",
        "\n",
        "The second line contains N space separated integers a1,a2,a3….an.\n",
        "\n",
        "Output Format\n",
        "The output is a sequence that consists of the sorted sequence concatenated with itself, as described in the problem.\n",
        "\n",
        "Constraints\n",
        "1 <= N <= 10^6\n",
        "\n",
        "1 <= Ai <=10^6\n",
        "\n",
        "Sample Testcase 0\n",
        "Testcase Input\n",
        "3\n",
        "1 2 1\n",
        "Testcase Output\n",
        "1 1 2 1 1 2\n",
        "Explanation\n",
        "In the sample case we have first sorted the sequence 1 2 1 -> 1 1 2 and then concatenated that with itself.\n",
        "</details>"
      ],
      "metadata": {
        "id": "Hlz3Ie88_g72"
      }
    },
    {
      "cell_type": "code",
      "source": [
        "def concatenate(arr):\n",
        "    arr.sort()\n",
        "    return arr + arr\n",
        "\n",
        "if __name__ == '__main__':\n",
        "    n = int(input())\n",
        "    arr = list(map(int, input().split()))\n",
        "    result = concatenate(arr)\n",
        "    print(' '.join(map(str, result)))\n"
      ],
      "metadata": {
        "id": "wiwYVsDYAIHj"
      },
      "execution_count": null,
      "outputs": []
    },
    {
      "cell_type": "markdown",
      "source": [
        "<details>\n",
        "  <summary>QN-3</summary>\n",
        "  Problem Statement\n",
        "A string is called lucky if it does not contain an unlucky substring in it. You are given a string S and an unlucky string U.\n",
        "Your task is to remove all occurrences of the unlucky string from S. So, that the string S can become a lucky one..\n",
        "A substring is a contiguous sequence of characters in a string.\n",
        "\n",
        "Input Format\n",
        "The first line will contain a string S representing the Input String which needs to be made lucky.\n",
        "The second line will contain a string U representing the Unlucky String.\n",
        "\n",
        "Output Format\n",
        "Print a single string which is a subsequence of String S and it is a Lucky String.\n",
        "\n",
        "Constraints\n",
        "1 ≤ S ≤ 106\n",
        "1 ≤ U ≤ 106\n",
        "\n",
        "Sample Testcase 0\n",
        "Testcase Input\n",
        "daabcbaabcbc\n",
        "abc\n",
        "Testcase Output\n",
        "dab\n",
        "</details>"
      ],
      "metadata": {
        "id": "qQhW45bNAK8B"
      }
    },
    {
      "cell_type": "code",
      "source": [
        "def makeMeLucky(S, U):\n",
        "    stack = []\n",
        "    len_u = len(U)\n",
        "\n",
        "    for char in S:\n",
        "        stack.append(char)\n",
        "        # Check if the end of the stack matches the unlucky string\n",
        "        if ''.join(stack[-len_u:]) == U:\n",
        "            # Remove the unlucky string from the stack\n",
        "            for _ in range(len_u):\n",
        "                stack.pop()\n",
        "\n",
        "    # Return the result as a string\n",
        "    return ''.join(stack)\n",
        "\n",
        "if __name__ == \"__main__\":\n",
        "    S = input()\n",
        "    U = input()\n",
        "    print(makeMeLucky(S, U))\n"
      ],
      "metadata": {
        "id": "MxUnP3ucBWUZ"
      },
      "execution_count": null,
      "outputs": []
    }
  ]
}